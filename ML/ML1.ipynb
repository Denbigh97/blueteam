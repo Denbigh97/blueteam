{
 "cells": [
  {
   "cell_type": "markdown",
   "metadata": {},
   "source": [
    "![](https://cdn.nba.net/nba-drupal-prod/2020-04/Video_T1_Hero_TopVideo.jpg)"
   ]
  },
  {
   "cell_type": "markdown",
   "metadata": {},
   "source": [
    "# HERO OR ZERO"
   ]
  },
  {
   "cell_type": "markdown",
   "metadata": {},
   "source": [
    "# K Nearest Neighbor Classifier Model¶"
   ]
  },
  {
   "cell_type": "code",
   "execution_count": 4,
   "metadata": {},
   "outputs": [
    {
     "name": "stdout",
     "output_type": "stream",
     "text": [
      "All neccessary libraries imported\n"
     ]
    }
   ],
   "source": [
    "# Import the neccessary libraries\n",
    "import matplotlib.pyplot as plt\n",
    "import pandas as pd\n",
    "import scipy.stats as st\n",
    "import numpy as np\n",
    "from sklearn import preprocessing\n",
    "print(\"All neccessary libraries imported\")"
   ]
  },
  {
   "cell_type": "code",
   "execution_count": 5,
   "metadata": {},
   "outputs": [],
   "source": [
    "# Raw data from Resources directory (change the link as needed)\n",
    "attribute_data = \"Data/ML data.csv\""
   ]
  },
  {
   "cell_type": "code",
   "execution_count": 7,
   "metadata": {},
   "outputs": [
    {
     "name": "stdout",
     "output_type": "stream",
     "text": [
      "\u001b[1mThe shape of the attribute dataframe is (125, 10):\u001b[0m\n"
     ]
    },
    {
     "data": {
      "text/html": [
       "<div>\n",
       "<style scoped>\n",
       "    .dataframe tbody tr th:only-of-type {\n",
       "        vertical-align: middle;\n",
       "    }\n",
       "\n",
       "    .dataframe tbody tr th {\n",
       "        vertical-align: top;\n",
       "    }\n",
       "\n",
       "    .dataframe thead th {\n",
       "        text-align: right;\n",
       "    }\n",
       "</style>\n",
       "<table border=\"1\" class=\"dataframe\">\n",
       "  <thead>\n",
       "    <tr style=\"text-align: right;\">\n",
       "      <th></th>\n",
       "      <th>Age</th>\n",
       "      <th>Game</th>\n",
       "      <th>FG%</th>\n",
       "      <th>3P%</th>\n",
       "      <th>2P%</th>\n",
       "      <th>Reb</th>\n",
       "      <th>Ast</th>\n",
       "      <th>Pts</th>\n",
       "      <th>Year</th>\n",
       "      <th>Contract Salary</th>\n",
       "    </tr>\n",
       "  </thead>\n",
       "  <tbody>\n",
       "    <tr>\n",
       "      <th>0</th>\n",
       "      <td>20</td>\n",
       "      <td>78</td>\n",
       "      <td>0.473</td>\n",
       "      <td>0.296</td>\n",
       "      <td>0.531</td>\n",
       "      <td>6.5</td>\n",
       "      <td>1.6</td>\n",
       "      <td>9.2</td>\n",
       "      <td>2015</td>\n",
       "      <td>4171680.0</td>\n",
       "    </tr>\n",
       "    <tr>\n",
       "      <th>1</th>\n",
       "      <td>21</td>\n",
       "      <td>80</td>\n",
       "      <td>0.454</td>\n",
       "      <td>0.288</td>\n",
       "      <td>0.528</td>\n",
       "      <td>5.1</td>\n",
       "      <td>1.9</td>\n",
       "      <td>12.7</td>\n",
       "      <td>2016</td>\n",
       "      <td>4351320.0</td>\n",
       "    </tr>\n",
       "    <tr>\n",
       "      <th>2</th>\n",
       "      <td>22</td>\n",
       "      <td>58</td>\n",
       "      <td>0.434</td>\n",
       "      <td>0.336</td>\n",
       "      <td>0.497</td>\n",
       "      <td>7.9</td>\n",
       "      <td>2.3</td>\n",
       "      <td>17.6</td>\n",
       "      <td>2017</td>\n",
       "      <td>5504420.0</td>\n",
       "    </tr>\n",
       "    <tr>\n",
       "      <th>3</th>\n",
       "      <td>23</td>\n",
       "      <td>78</td>\n",
       "      <td>0.449</td>\n",
       "      <td>0.349</td>\n",
       "      <td>0.499</td>\n",
       "      <td>7.4</td>\n",
       "      <td>3.7</td>\n",
       "      <td>16.0</td>\n",
       "      <td>2018</td>\n",
       "      <td>21590909.0</td>\n",
       "    </tr>\n",
       "    <tr>\n",
       "      <th>4</th>\n",
       "      <td>24</td>\n",
       "      <td>62</td>\n",
       "      <td>0.470</td>\n",
       "      <td>0.369</td>\n",
       "      <td>0.457</td>\n",
       "      <td>7.7</td>\n",
       "      <td>3.7</td>\n",
       "      <td>14.4</td>\n",
       "      <td>2019</td>\n",
       "      <td>19863636.0</td>\n",
       "    </tr>\n",
       "  </tbody>\n",
       "</table>\n",
       "</div>"
      ],
      "text/plain": [
       "   Age  Game     FG%    3P%    2P%  Reb  Ast   Pts  Year   Contract Salary\n",
       "0   20     78  0.473  0.296  0.531  6.5  1.6   9.2   2015        4171680.0\n",
       "1   21     80  0.454  0.288  0.528  5.1  1.9  12.7   2016        4351320.0\n",
       "2   22     58  0.434  0.336  0.497  7.9  2.3  17.6   2017        5504420.0\n",
       "3   23     78  0.449  0.349  0.499  7.4  3.7  16.0   2018       21590909.0\n",
       "4   24     62  0.470  0.369  0.457  7.7  3.7  14.4   2019       19863636.0"
      ]
     },
     "execution_count": 7,
     "metadata": {},
     "output_type": "execute_result"
    }
   ],
   "source": [
    "# Read the  data into a dataframe\n",
    "df_attributes = pd.read_csv(attribute_data)\n",
    "# Drop the columns with string values\n",
    "df_attributes.drop(columns=['Player','Position','Team'],inplace=True)\n",
    "# Let's see the shape and the first 5 rows of the dataframe\n",
    "print('\\033[1m'+\"The shape of the {} dataframe is {}:\" .format(\"attribute\",df_attributes.shape)+'\\033[0m')\n",
    "df_attributes.head()"
   ]
  },
  {
   "cell_type": "code",
   "execution_count": 8,
   "metadata": {},
   "outputs": [
    {
     "name": "stdout",
     "output_type": "stream",
     "text": [
      "['Age', 'Game ', 'FG%', '3P%', '2P%', 'Reb', 'Ast', 'Pts', 'Year ', 'Contract Salary']\n"
     ]
    }
   ],
   "source": [
    "# Let's see the column names in the dataframe\n",
    "print(df_attributes.columns.tolist())"
   ]
  },
  {
   "cell_type": "code",
   "execution_count": 9,
   "metadata": {},
   "outputs": [
    {
     "name": "stdout",
     "output_type": "stream",
     "text": [
      "<class 'pandas.core.frame.DataFrame'>\n",
      "RangeIndex: 125 entries, 0 to 124\n",
      "Data columns (total 10 columns):\n",
      " #   Column           Non-Null Count  Dtype  \n",
      "---  ------           --------------  -----  \n",
      " 0   Age              125 non-null    int64  \n",
      " 1   Game             125 non-null    int64  \n",
      " 2   FG%              125 non-null    float64\n",
      " 3   3P%              125 non-null    float64\n",
      " 4   2P%              125 non-null    float64\n",
      " 5   Reb              125 non-null    float64\n",
      " 6   Ast              125 non-null    float64\n",
      " 7   Pts              125 non-null    float64\n",
      " 8   Year             125 non-null    int64  \n",
      " 9   Contract Salary  125 non-null    float64\n",
      "dtypes: float64(7), int64(3)\n",
      "memory usage: 9.9 KB\n"
     ]
    }
   ],
   "source": [
    "# Basic information of the df_fire dataframe by the info() method\n",
    "df_attributes.info()"
   ]
  },
  {
   "cell_type": "markdown",
   "metadata": {},
   "source": [
    "## Create a new column for popularity rank¶"
   ]
  },
  {
   "cell_type": "code",
   "execution_count": 10,
   "metadata": {},
   "outputs": [
    {
     "data": {
      "text/html": [
       "<div>\n",
       "<style scoped>\n",
       "    .dataframe tbody tr th:only-of-type {\n",
       "        vertical-align: middle;\n",
       "    }\n",
       "\n",
       "    .dataframe tbody tr th {\n",
       "        vertical-align: top;\n",
       "    }\n",
       "\n",
       "    .dataframe thead th {\n",
       "        text-align: right;\n",
       "    }\n",
       "</style>\n",
       "<table border=\"1\" class=\"dataframe\">\n",
       "  <thead>\n",
       "    <tr style=\"text-align: right;\">\n",
       "      <th></th>\n",
       "      <th>Age</th>\n",
       "      <th>Game</th>\n",
       "      <th>FG%</th>\n",
       "      <th>3P%</th>\n",
       "      <th>2P%</th>\n",
       "      <th>Reb</th>\n",
       "      <th>Ast</th>\n",
       "      <th>Pts</th>\n",
       "      <th>Year</th>\n",
       "      <th>Contract Salary</th>\n",
       "      <th>Rank</th>\n",
       "    </tr>\n",
       "  </thead>\n",
       "  <tbody>\n",
       "    <tr>\n",
       "      <th>0</th>\n",
       "      <td>20</td>\n",
       "      <td>78</td>\n",
       "      <td>0.473</td>\n",
       "      <td>0.296</td>\n",
       "      <td>0.531</td>\n",
       "      <td>6.5</td>\n",
       "      <td>1.6</td>\n",
       "      <td>9.2</td>\n",
       "      <td>2015</td>\n",
       "      <td>4171680.0</td>\n",
       "      <td>HIT</td>\n",
       "    </tr>\n",
       "    <tr>\n",
       "      <th>1</th>\n",
       "      <td>21</td>\n",
       "      <td>80</td>\n",
       "      <td>0.454</td>\n",
       "      <td>0.288</td>\n",
       "      <td>0.528</td>\n",
       "      <td>5.1</td>\n",
       "      <td>1.9</td>\n",
       "      <td>12.7</td>\n",
       "      <td>2016</td>\n",
       "      <td>4351320.0</td>\n",
       "      <td>HIT</td>\n",
       "    </tr>\n",
       "    <tr>\n",
       "      <th>2</th>\n",
       "      <td>22</td>\n",
       "      <td>58</td>\n",
       "      <td>0.434</td>\n",
       "      <td>0.336</td>\n",
       "      <td>0.497</td>\n",
       "      <td>7.9</td>\n",
       "      <td>2.3</td>\n",
       "      <td>17.6</td>\n",
       "      <td>2017</td>\n",
       "      <td>5504420.0</td>\n",
       "      <td>MISS</td>\n",
       "    </tr>\n",
       "    <tr>\n",
       "      <th>3</th>\n",
       "      <td>23</td>\n",
       "      <td>78</td>\n",
       "      <td>0.449</td>\n",
       "      <td>0.349</td>\n",
       "      <td>0.499</td>\n",
       "      <td>7.4</td>\n",
       "      <td>3.7</td>\n",
       "      <td>16.0</td>\n",
       "      <td>2018</td>\n",
       "      <td>21590909.0</td>\n",
       "      <td>MISS</td>\n",
       "    </tr>\n",
       "    <tr>\n",
       "      <th>4</th>\n",
       "      <td>24</td>\n",
       "      <td>62</td>\n",
       "      <td>0.470</td>\n",
       "      <td>0.369</td>\n",
       "      <td>0.457</td>\n",
       "      <td>7.7</td>\n",
       "      <td>3.7</td>\n",
       "      <td>14.4</td>\n",
       "      <td>2019</td>\n",
       "      <td>19863636.0</td>\n",
       "      <td>MISS</td>\n",
       "    </tr>\n",
       "  </tbody>\n",
       "</table>\n",
       "</div>"
      ],
      "text/plain": [
       "   Age  Game     FG%    3P%    2P%  Reb  Ast   Pts  Year   Contract Salary  \\\n",
       "0   20     78  0.473  0.296  0.531  6.5  1.6   9.2   2015        4171680.0   \n",
       "1   21     80  0.454  0.288  0.528  5.1  1.9  12.7   2016        4351320.0   \n",
       "2   22     58  0.434  0.336  0.497  7.9  2.3  17.6   2017        5504420.0   \n",
       "3   23     78  0.449  0.349  0.499  7.4  3.7  16.0   2018       21590909.0   \n",
       "4   24     62  0.470  0.369  0.457  7.7  3.7  14.4   2019       19863636.0   \n",
       "\n",
       "   Rank  \n",
       "0   HIT  \n",
       "1   HIT  \n",
       "2  MISS  \n",
       "3  MISS  \n",
       "4  MISS  "
      ]
     },
     "execution_count": 10,
     "metadata": {},
     "output_type": "execute_result"
    }
   ],
   "source": [
    "# Create a new column # Create a new column with Rank HIT or MISS\n",
    "df_attributes[\"Rank\"] = df_attributes[\"Contract Salary\"].apply(lambda x: 'HIT' if x <=5000000 else 'MISS')\n",
    "# Let's see the new column\n",
    "df_attributes.head()"
   ]
  },
  {
   "cell_type": "markdown",
   "metadata": {},
   "source": [
    "## Creating input and output datasets¶"
   ]
  },
  {
   "cell_type": "code",
   "execution_count": 12,
   "metadata": {},
   "outputs": [
    {
     "name": "stdout",
     "output_type": "stream",
     "text": [
      "\u001b[1mShape of the X dataset: (125, 9)\u001b[0m\n",
      "\u001b[1mShape of the y dataset: (125, 1)\u001b[0m\n"
     ]
    }
   ],
   "source": [
    "import numpy as np\n",
    "# Create a copy of df_attributes\n",
    "df_copy = df_attributes.copy()\n",
    "# Create X and Y numpy arrays\n",
    "df_y = df_copy[['Rank']].to_numpy() # Keep only the rank column\n",
    "df_copy.drop(columns=['Contract Salary','Rank'],inplace=True) # Keep only the attributes\n",
    "X = df_copy.to_numpy() # Convert the dataframe to numpy array\n",
    "print('\\033[1m'+\"Shape of the X dataset: {}\".format(X.shape)+'\\033[0m')\n",
    "print('\\033[1m'+\"Shape of the y dataset: {}\".format(df_y.shape)+'\\033[0m')"
   ]
  },
  {
   "cell_type": "code",
   "execution_count": 13,
   "metadata": {},
   "outputs": [
    {
     "data": {
      "text/plain": [
       "array(['HIT', 'HIT', 'MISS', 'MISS', 'MISS'], dtype=object)"
      ]
     },
     "execution_count": 13,
     "metadata": {},
     "output_type": "execute_result"
    }
   ],
   "source": [
    "# Creating a numpy one dimensional array for labels\n",
    "y = df_y.ravel()\n",
    "y[0:5]"
   ]
  },
  {
   "cell_type": "markdown",
   "metadata": {},
   "source": [
    "## Creating train and test splits¶"
   ]
  },
  {
   "cell_type": "code",
   "execution_count": 14,
   "metadata": {},
   "outputs": [
    {
     "name": "stdout",
     "output_type": "stream",
     "text": [
      "Train set: (100, 9) (100,)\n",
      "Test set: (25, 9) (25,)\n"
     ]
    }
   ],
   "source": [
    "# Use train_test_split to create training and testing data\n",
    "from sklearn.model_selection import train_test_split\n",
    "X_train, X_test, y_train, y_test = train_test_split(X, y, test_size=0.2, random_state=42)\n",
    "# Shape of the train & test set\n",
    "print ('Train set:', X_train.shape,  y_train.shape)\n",
    "print ('Test set:', X_test.shape,  y_test.shape)"
   ]
  },
  {
   "cell_type": "markdown",
   "metadata": {},
   "source": [
    "## Data Preprocessing¶"
   ]
  },
  {
   "cell_type": "code",
   "execution_count": 15,
   "metadata": {},
   "outputs": [],
   "source": [
    "\n",
    "# Importing StandardScaler from sklearn library\n",
    "from sklearn.preprocessing import StandardScaler\n",
    "X_scaler = StandardScaler().fit(X_train)"
   ]
  },
  {
   "cell_type": "code",
   "execution_count": 16,
   "metadata": {},
   "outputs": [],
   "source": [
    "# Scaling both test and train data for X dataset\n",
    "X_train_scaled = X_scaler.transform(X_train)\n",
    "X_test_scaled = X_scaler.transform(X_test)"
   ]
  },
  {
   "cell_type": "markdown",
   "metadata": {},
   "source": [
    "## Creating a K-Nearest-Neighbor(KNN) Classifier"
   ]
  },
  {
   "cell_type": "code",
   "execution_count": 22,
   "metadata": {},
   "outputs": [
    {
     "data": {
      "image/png": "[encoded data removed]",
      "text/plain": [
       "<Figure size 432x288 with 1 Axes>"
      ]
     },
     "metadata": {
      "needs_background": "light"
     },
     "output_type": "display_data"
    },
    {
     "name": "stdout",
     "output_type": "stream",
     "text": [
      "\u001b[1mThe best accuracy was with 0.84 with k= 3\n"
     ]
    }
   ],
   "source": [
    "import numpy as np\n",
    "from sklearn.neighbors import KNeighborsClassifier\n",
    "from sklearn import metrics\n",
    "# We can calculate the accuracy of KNN for different Ks.\n",
    "Ks = 20\n",
    "mean_acc = np.zeros((Ks-1))\n",
    "std_acc = np.zeros((Ks-1))\n",
    "# Calculating accuracy for different Ks\n",
    "for n in range(1,Ks):\n",
    "    #Train Model and Predict  \n",
    "    neigh = KNeighborsClassifier(n_neighbors = n).fit(X_train_scaled,y_train)\n",
    "    yhat=neigh.predict(X_test_scaled)\n",
    "    mean_acc[n-1] = metrics.accuracy_score(y_test, yhat)    \n",
    "    std_acc[n-1] = np.std(yhat==y_test)/np.sqrt(yhat.shape[0])\n",
    "# Plot model accuracy for Different number of Neighbors\n",
    "plt.plot(range(1,Ks),mean_acc,'-b',linewidth=2)\n",
    "plt.fill_between(range(1,Ks),mean_acc - 1 * std_acc,mean_acc + 1 * std_acc, alpha=0.15)\n",
    "plt.legend(('Accuracy ', '+/- 3xstd'),fontsize='medium',ncol=2)\n",
    "plt.ylabel('Accuracy ')\n",
    "plt.xlabel('Number of Neighbors (K)')\n",
    "plt.tight_layout()\n",
    "plt.show()\n",
    "# Print the K value that gives best accuracy\n",
    "print('\\033[1m'+\"The best accuracy was with\", round(mean_acc.max(),4), \"with k=\", (mean_acc.argmax()+1))"
   ]
  },
  {
   "cell_type": "code",
   "execution_count": 19,
   "metadata": {},
   "outputs": [
    {
     "name": "stdout",
     "output_type": "stream",
     "text": [
      "\u001b[1m F1 Score: \u001b[0m \n",
      " 0.7961904761904762\n",
      "\u001b[1m Classification Report: \u001b[0m \n",
      "               precision    recall  f1-score   support\n",
      "\n",
      "         HIT       0.71      0.62      0.67         8\n",
      "        MISS       0.83      0.88      0.86        17\n",
      "\n",
      "    accuracy                           0.80        25\n",
      "   macro avg       0.77      0.75      0.76        25\n",
      "weighted avg       0.80      0.80      0.80        25\n",
      "\n"
     ]
    }
   ],
   "source": [
    "from sklearn import metrics\n",
    "from sklearn.metrics import confusion_matrix\n",
    "from sklearn.metrics import classification_report\n",
    "from sklearn.neighbors import KNeighborsClassifier\n",
    "\n",
    "from sklearn.metrics import accuracy_score \n",
    "\n",
    "# k value that gives best accuracy\n",
    "k = 14\n",
    "# Create the KNN classifier engine & make prediction\n",
    "neigh = KNeighborsClassifier(n_neighbors = k).fit(X_train,y_train)\n",
    "yhat = neigh.predict(X_test)\n",
    "# Evaluating the KNN Classifier\n",
    "print(\"\\033[1m F1 Score: \\033[0m \\n\",metrics.f1_score(y_test,yhat,average='weighted'))\n",
    "print(\"\\033[1m Classification Report: \\033[0m \\n\",metrics.classification_report(y_test,yhat))"
   ]
  },
  {
   "cell_type": "code",
   "execution_count": 20,
   "metadata": {},
   "outputs": [
    {
     "name": "stdout",
     "output_type": "stream",
     "text": [
      "\u001b[1m Confusion Matrix, without normalization \u001b[0m\n",
      "[[ 5  3]\n",
      " [ 2 15]]\n"
     ]
    },
    {
     "data": {
      "image/png": "[encoded data removed]",
      "text/plain": [
       "<Figure size 432x288 with 2 Axes>"
      ]
     },
     "metadata": {
      "needs_background": "light"
     },
     "output_type": "display_data"
    }
   ],
   "source": [
    "import itertools\n",
    "from sklearn.metrics import confusion_matrix\n",
    "# This function prints and plots the confusion matrix.\n",
    "# Normalization can be applied by setting `normalize=True\n",
    "def plot_confusion_matrix(cm, classes,\n",
    "                          normalize=False,\n",
    "                          title='Confusion matrix',\n",
    "                          cmap=plt.cm.Blues):\n",
    "    plt.imshow(cm, interpolation='nearest', cmap=cmap)\n",
    "    plt.title(title,fontsize=14,pad=20)\n",
    "    plt.colorbar()\n",
    "    tick_marks = np.arange(len(classes))\n",
    "    plt.xticks(tick_marks, classes, rotation=45)\n",
    "    plt.yticks(tick_marks, classes)\n",
    "    if normalize:\n",
    "        cm = cm.astype('float') / cm.sum(axis=1)[:, np.newaxis]\n",
    "        print(\"Normalized confusion matrix\")\n",
    "    else:\n",
    "        print(\"\\033[1m Confusion Matrix, without normalization \\033[0m\")\n",
    "    print(cm)\n",
    "    thresh = cm.max() / 2.\n",
    "    for i, j in itertools.product(range(cm.shape[0]), range(cm.shape[1])):\n",
    "        plt.text(j, i, cm[i, j],fontsize=14,\n",
    "                 horizontalalignment=\"center\",\n",
    "                 color=\"white\" if cm[i, j] > thresh else \"black\")\n",
    "    plt.tight_layout()\n",
    "    plt.ylabel('True label',fontsize=14)\n",
    "    plt.xlabel('Predicted label',fontsize=14)\n",
    "# Compute confusion matrix\n",
    "cnf_matrix = confusion_matrix(y_test, yhat)\n",
    "np.set_printoptions(precision=2)\n",
    "# Plot non-normalized confusion matrix\n",
    "plt.figure()\n",
    "plot_confusion_matrix(cnf_matrix, classes=['HIT','MISS'],\n",
    "                      title='Confusion matrix, without normalization')\n",
    "plt.show()"
   ]
  },
  {
   "cell_type": "code",
   "execution_count": null,
   "metadata": {},
   "outputs": [],
   "source": []
  },
  {
   "cell_type": "code",
   "execution_count": null,
   "metadata": {},
   "outputs": [],
   "source": []
  }
 ],
 "metadata": {
  "environment": {
   "name": "common-cpu.m56",
   "type": "gcloud",
   "uri": "gcr.io/deeplearning-platform-release/base-cpu:m56"
  },
  "kernelspec": {
   "display_name": "Python 3",
   "language": "python",
   "name": "python3"
  },
  "language_info": {
   "codemirror_mode": {
    "name": "ipython",
    "version": 3
   },
   "file_extension": ".py",
   "mimetype": "text/x-python",
   "name": "python",
   "nbconvert_exporter": "python",
   "pygments_lexer": "ipython3",
   "version": "3.7.8"
  }
 },
 "nbformat": 4,
 "nbformat_minor": 4
}
