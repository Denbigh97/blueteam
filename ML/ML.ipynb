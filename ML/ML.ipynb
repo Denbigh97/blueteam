{
 "cells": [
  {
   "cell_type": "markdown",
   "metadata": {},
   "source": [
    "![](https://cdn.nba.net/nba-drupal-prod/2020-04/Video_T1_Hero_TopVideo.jpg)"
   ]
  },
  {
   "cell_type": "markdown",
   "metadata": {},
   "source": [
    "# HERO OR ZERO"
   ]
  },
  {
   "cell_type": "markdown",
   "metadata": {},
   "source": [
    "## Neural Network Machine Learning Model ¶"
   ]
  },
  {
   "cell_type": "code",
   "execution_count": null,
   "metadata": {},
   "outputs": [],
   "source": [
    "# Import the neccessary libraries\n",
    "import matplotlib.pyplot as plt\n",
    "import pandas as pd\n",
    "import scipy.stats as st\n",
    "import numpy as np\n",
    "print(\"All neccessary libraries imported\")"
   ]
  },
  {
   "cell_type": "code",
   "execution_count": 2,
   "metadata": {},
   "outputs": [],
   "source": [
    "# Set the seed value for the notebook so the results are reproducible\n",
    "from numpy.random import seed\n",
    "seed(42)\n"
   ]
  },
  {
   "cell_type": "code",
   "execution_count": 3,
   "metadata": {},
   "outputs": [],
   "source": [
    "# Raw data from Resources directory (change the link as needed)\n",
    "attribute_data = \"Data/ML data.csv\""
   ]
  },
  {
   "cell_type": "code",
   "execution_count": 4,
   "metadata": {},
   "outputs": [
    {
     "name": "stdout",
     "output_type": "stream",
     "text": [
      "\u001b[1mThe shape of the attribute dataframe is (125, 10):\u001b[0m\n"
     ]
    },
    {
     "data": {
      "text/html": [
       "<div>\n",
       "<style scoped>\n",
       "    .dataframe tbody tr th:only-of-type {\n",
       "        vertical-align: middle;\n",
       "    }\n",
       "\n",
       "    .dataframe tbody tr th {\n",
       "        vertical-align: top;\n",
       "    }\n",
       "\n",
       "    .dataframe thead th {\n",
       "        text-align: right;\n",
       "    }\n",
       "</style>\n",
       "<table border=\"1\" class=\"dataframe\">\n",
       "  <thead>\n",
       "    <tr style=\"text-align: right;\">\n",
       "      <th></th>\n",
       "      <th>Age</th>\n",
       "      <th>Game</th>\n",
       "      <th>FG%</th>\n",
       "      <th>3P%</th>\n",
       "      <th>2P%</th>\n",
       "      <th>Reb</th>\n",
       "      <th>Ast</th>\n",
       "      <th>Pts</th>\n",
       "      <th>Year</th>\n",
       "      <th>Contract Salary</th>\n",
       "    </tr>\n",
       "  </thead>\n",
       "  <tbody>\n",
       "    <tr>\n",
       "      <th>0</th>\n",
       "      <td>20</td>\n",
       "      <td>78</td>\n",
       "      <td>0.473</td>\n",
       "      <td>0.296</td>\n",
       "      <td>0.531</td>\n",
       "      <td>6.5</td>\n",
       "      <td>1.6</td>\n",
       "      <td>9.2</td>\n",
       "      <td>2015</td>\n",
       "      <td>4171680.0</td>\n",
       "    </tr>\n",
       "    <tr>\n",
       "      <th>1</th>\n",
       "      <td>21</td>\n",
       "      <td>80</td>\n",
       "      <td>0.454</td>\n",
       "      <td>0.288</td>\n",
       "      <td>0.528</td>\n",
       "      <td>5.1</td>\n",
       "      <td>1.9</td>\n",
       "      <td>12.7</td>\n",
       "      <td>2016</td>\n",
       "      <td>4351320.0</td>\n",
       "    </tr>\n",
       "    <tr>\n",
       "      <th>2</th>\n",
       "      <td>22</td>\n",
       "      <td>58</td>\n",
       "      <td>0.434</td>\n",
       "      <td>0.336</td>\n",
       "      <td>0.497</td>\n",
       "      <td>7.9</td>\n",
       "      <td>2.3</td>\n",
       "      <td>17.6</td>\n",
       "      <td>2017</td>\n",
       "      <td>5504420.0</td>\n",
       "    </tr>\n",
       "    <tr>\n",
       "      <th>3</th>\n",
       "      <td>23</td>\n",
       "      <td>78</td>\n",
       "      <td>0.449</td>\n",
       "      <td>0.349</td>\n",
       "      <td>0.499</td>\n",
       "      <td>7.4</td>\n",
       "      <td>3.7</td>\n",
       "      <td>16.0</td>\n",
       "      <td>2018</td>\n",
       "      <td>21590909.0</td>\n",
       "    </tr>\n",
       "    <tr>\n",
       "      <th>4</th>\n",
       "      <td>24</td>\n",
       "      <td>62</td>\n",
       "      <td>0.470</td>\n",
       "      <td>0.369</td>\n",
       "      <td>0.457</td>\n",
       "      <td>7.7</td>\n",
       "      <td>3.7</td>\n",
       "      <td>14.4</td>\n",
       "      <td>2019</td>\n",
       "      <td>19863636.0</td>\n",
       "    </tr>\n",
       "  </tbody>\n",
       "</table>\n",
       "</div>"
      ],
      "text/plain": [
       "   Age  Game     FG%    3P%    2P%  Reb  Ast   Pts  Year   Contract Salary\n",
       "0   20     78  0.473  0.296  0.531  6.5  1.6   9.2   2015        4171680.0\n",
       "1   21     80  0.454  0.288  0.528  5.1  1.9  12.7   2016        4351320.0\n",
       "2   22     58  0.434  0.336  0.497  7.9  2.3  17.6   2017        5504420.0\n",
       "3   23     78  0.449  0.349  0.499  7.4  3.7  16.0   2018       21590909.0\n",
       "4   24     62  0.470  0.369  0.457  7.7  3.7  14.4   2019       19863636.0"
      ]
     },
     "execution_count": 4,
     "metadata": {},
     "output_type": "execute_result"
    }
   ],
   "source": [
    "# Read the  data into a dataframe\n",
    "df_attributes = pd.read_csv(attribute_data)\n",
    "# Drop the columns with string values\n",
    "df_attributes.drop(columns=['Player','Position','Team'],inplace=True)\n",
    "# Let's see the shape and the first 5 rows of the dataframe\n",
    "print('\\033[1m'+\"The shape of the {} dataframe is {}:\" .format(\"attribute\",df_attributes.shape)+'\\033[0m')\n",
    "df_attributes.head()"
   ]
  },
  {
   "cell_type": "code",
   "execution_count": 5,
   "metadata": {},
   "outputs": [
    {
     "name": "stdout",
     "output_type": "stream",
     "text": [
      "['Age', 'Game ', 'FG%', '3P%', '2P%', 'Reb', 'Ast', 'Pts', 'Year ', 'Contract Salary']\n"
     ]
    }
   ],
   "source": [
    "# Let's see the column names in the dataframe\n",
    "print(df_attributes.columns.tolist())"
   ]
  },
  {
   "cell_type": "code",
   "execution_count": 6,
   "metadata": {},
   "outputs": [
    {
     "name": "stdout",
     "output_type": "stream",
     "text": [
      "<class 'pandas.core.frame.DataFrame'>\n",
      "RangeIndex: 125 entries, 0 to 124\n",
      "Data columns (total 10 columns):\n",
      " #   Column           Non-Null Count  Dtype  \n",
      "---  ------           --------------  -----  \n",
      " 0   Age              125 non-null    int64  \n",
      " 1   Game             125 non-null    int64  \n",
      " 2   FG%              125 non-null    float64\n",
      " 3   3P%              125 non-null    float64\n",
      " 4   2P%              125 non-null    float64\n",
      " 5   Reb              125 non-null    float64\n",
      " 6   Ast              125 non-null    float64\n",
      " 7   Pts              125 non-null    float64\n",
      " 8   Year             125 non-null    int64  \n",
      " 9   Contract Salary  125 non-null    float64\n",
      "dtypes: float64(7), int64(3)\n",
      "memory usage: 9.9 KB\n"
     ]
    }
   ],
   "source": [
    "# Basic information of the df_fire dataframe by the info() method\n",
    "df_attributes.info()"
   ]
  },
  {
   "cell_type": "markdown",
   "metadata": {},
   "source": [
    "## Create a new column for popularity rank"
   ]
  },
  {
   "cell_type": "code",
   "execution_count": 26,
   "metadata": {},
   "outputs": [
    {
     "data": {
      "text/html": [
       "<div>\n",
       "<style scoped>\n",
       "    .dataframe tbody tr th:only-of-type {\n",
       "        vertical-align: middle;\n",
       "    }\n",
       "\n",
       "    .dataframe tbody tr th {\n",
       "        vertical-align: top;\n",
       "    }\n",
       "\n",
       "    .dataframe thead th {\n",
       "        text-align: right;\n",
       "    }\n",
       "</style>\n",
       "<table border=\"1\" class=\"dataframe\">\n",
       "  <thead>\n",
       "    <tr style=\"text-align: right;\">\n",
       "      <th></th>\n",
       "      <th>Age</th>\n",
       "      <th>Game</th>\n",
       "      <th>FG%</th>\n",
       "      <th>3P%</th>\n",
       "      <th>2P%</th>\n",
       "      <th>Reb</th>\n",
       "      <th>Ast</th>\n",
       "      <th>Pts</th>\n",
       "      <th>Year</th>\n",
       "      <th>Contract Salary</th>\n",
       "      <th>Rank</th>\n",
       "    </tr>\n",
       "  </thead>\n",
       "  <tbody>\n",
       "    <tr>\n",
       "      <th>0</th>\n",
       "      <td>20</td>\n",
       "      <td>78</td>\n",
       "      <td>0.473</td>\n",
       "      <td>0.296</td>\n",
       "      <td>0.531</td>\n",
       "      <td>6.5</td>\n",
       "      <td>1.6</td>\n",
       "      <td>9.2</td>\n",
       "      <td>2015</td>\n",
       "      <td>4171680.0</td>\n",
       "      <td>1</td>\n",
       "    </tr>\n",
       "    <tr>\n",
       "      <th>1</th>\n",
       "      <td>21</td>\n",
       "      <td>80</td>\n",
       "      <td>0.454</td>\n",
       "      <td>0.288</td>\n",
       "      <td>0.528</td>\n",
       "      <td>5.1</td>\n",
       "      <td>1.9</td>\n",
       "      <td>12.7</td>\n",
       "      <td>2016</td>\n",
       "      <td>4351320.0</td>\n",
       "      <td>1</td>\n",
       "    </tr>\n",
       "    <tr>\n",
       "      <th>2</th>\n",
       "      <td>22</td>\n",
       "      <td>58</td>\n",
       "      <td>0.434</td>\n",
       "      <td>0.336</td>\n",
       "      <td>0.497</td>\n",
       "      <td>7.9</td>\n",
       "      <td>2.3</td>\n",
       "      <td>17.6</td>\n",
       "      <td>2017</td>\n",
       "      <td>5504420.0</td>\n",
       "      <td>1</td>\n",
       "    </tr>\n",
       "    <tr>\n",
       "      <th>3</th>\n",
       "      <td>23</td>\n",
       "      <td>78</td>\n",
       "      <td>0.449</td>\n",
       "      <td>0.349</td>\n",
       "      <td>0.499</td>\n",
       "      <td>7.4</td>\n",
       "      <td>3.7</td>\n",
       "      <td>16.0</td>\n",
       "      <td>2018</td>\n",
       "      <td>21590909.0</td>\n",
       "      <td>0</td>\n",
       "    </tr>\n",
       "    <tr>\n",
       "      <th>4</th>\n",
       "      <td>24</td>\n",
       "      <td>62</td>\n",
       "      <td>0.470</td>\n",
       "      <td>0.369</td>\n",
       "      <td>0.457</td>\n",
       "      <td>7.7</td>\n",
       "      <td>3.7</td>\n",
       "      <td>14.4</td>\n",
       "      <td>2019</td>\n",
       "      <td>19863636.0</td>\n",
       "      <td>0</td>\n",
       "    </tr>\n",
       "  </tbody>\n",
       "</table>\n",
       "</div>"
      ],
      "text/plain": [
       "   Age  Game     FG%    3P%    2P%  Reb  Ast   Pts  Year   Contract Salary  \\\n",
       "0   20     78  0.473  0.296  0.531  6.5  1.6   9.2   2015        4171680.0   \n",
       "1   21     80  0.454  0.288  0.528  5.1  1.9  12.7   2016        4351320.0   \n",
       "2   22     58  0.434  0.336  0.497  7.9  2.3  17.6   2017        5504420.0   \n",
       "3   23     78  0.449  0.349  0.499  7.4  3.7  16.0   2018       21590909.0   \n",
       "4   24     62  0.470  0.369  0.457  7.7  3.7  14.4   2019       19863636.0   \n",
       "\n",
       "   Rank  \n",
       "0     1  \n",
       "1     1  \n",
       "2     1  \n",
       "3     0  \n",
       "4     0  "
      ]
     },
     "execution_count": 26,
     "metadata": {},
     "output_type": "execute_result"
    }
   ],
   "source": [
    "# Create a new column with Rank 0 or 1 \n",
    "df_attributes[\"Rank\"] = df_attributes[\"Contract Salary\"].apply(lambda x: 1 if x <=7000000 else 0)\n",
    "# Let's see the new column\n",
    "df_attributes.head()"
   ]
  },
  {
   "cell_type": "markdown",
   "metadata": {},
   "source": [
    "## Creating input and output datasets¶"
   ]
  },
  {
   "cell_type": "code",
   "execution_count": 8,
   "metadata": {},
   "outputs": [
    {
     "name": "stdout",
     "output_type": "stream",
     "text": [
      "\u001b[1mShape of the X dataset: (125, 9)\u001b[0m\n",
      "\u001b[1mShape of the y dataset: (125, 1)\u001b[0m\n"
     ]
    }
   ],
   "source": [
    "import numpy as np\n",
    "# Create a copy of df_attributes\n",
    "df_copy = df_attributes.copy()\n",
    "# Create X and Y numpy arrays\n",
    "y = df_copy[['Rank']].to_numpy() # Keep only the rank column\n",
    "df_copy.drop(columns=['Contract Salary','Rank'],inplace=True) # Keep only the attributes\n",
    "X = df_copy.to_numpy() # Convert the dataframe to numpy array\n",
    "print('\\033[1m'+\"Shape of the X dataset: {}\".format(X.shape)+'\\033[0m')\n",
    "print('\\033[1m'+\"Shape of the y dataset: {}\".format(y.shape)+'\\033[0m')"
   ]
  },
  {
   "cell_type": "markdown",
   "metadata": {},
   "source": [
    "## Creating train and test splits"
   ]
  },
  {
   "cell_type": "code",
   "execution_count": 9,
   "metadata": {},
   "outputs": [
    {
     "name": "stdout",
     "output_type": "stream",
     "text": [
      "Train set: (100, 9) (100, 1)\n",
      "Test set: (25, 9) (25, 1)\n"
     ]
    }
   ],
   "source": [
    "# Use train_test_split to create training and testing data\n",
    "from sklearn.model_selection import train_test_split\n",
    "X_train, X_test, y_train, y_test = train_test_split(X, y, test_size=0.2, random_state=42)\n",
    "# Shape of the train & test set\n",
    "print ('Train set:', X_train.shape,  y_train.shape)\n",
    "print ('Test set:', X_test.shape,  y_test.shape)"
   ]
  },
  {
   "cell_type": "markdown",
   "metadata": {},
   "source": [
    "## Data Preprocessing¶"
   ]
  },
  {
   "cell_type": "code",
   "execution_count": 10,
   "metadata": {},
   "outputs": [],
   "source": [
    "# Importing StandardScaler from sklearn library\n",
    "from sklearn.preprocessing import StandardScaler\n",
    "X_scaler = StandardScaler().fit(X_train)"
   ]
  },
  {
   "cell_type": "code",
   "execution_count": 11,
   "metadata": {},
   "outputs": [],
   "source": [
    "# Scaling both test and train data for X dataset\n",
    "X_train_scaled = X_scaler.transform(X_train)\n",
    "X_test_scaled = X_scaler.transform(X_test)"
   ]
  },
  {
   "cell_type": "code",
   "execution_count": 12,
   "metadata": {},
   "outputs": [],
   "source": [
    "# Install tensorflow module (if not available) by uncommenting below\n",
    "#!pip install keras\n",
    "#!pip install --upgrade tensorflow"
   ]
  },
  {
   "cell_type": "markdown",
   "metadata": {},
   "source": [
    "## One hot encoding of labels¶"
   ]
  },
  {
   "cell_type": "code",
   "execution_count": 13,
   "metadata": {},
   "outputs": [],
   "source": [
    "from tensorflow.keras.utils import to_categorical\n",
    "# Converting the labels (y_train and y_test) to categorical values\n",
    "y_train_categorical = to_categorical(y_train)\n",
    "y_test_categorical = to_categorical(y_test)"
   ]
  },
  {
   "cell_type": "markdown",
   "metadata": {},
   "source": [
    "## Defining the model architecture"
   ]
  },
  {
   "cell_type": "code",
   "execution_count": 14,
   "metadata": {},
   "outputs": [],
   "source": [
    "from tensorflow.keras.models import Sequential\n",
    "# Creating a sequential model\n",
    "model = Sequential()"
   ]
  },
  {
   "cell_type": "markdown",
   "metadata": {},
   "source": [
    "## Defining the input of the model"
   ]
  },
  {
   "cell_type": "code",
   "execution_count": 15,
   "metadata": {},
   "outputs": [],
   "source": [
    "from tensorflow.keras.layers import Dense\n",
    "number_inputs = 9\n",
    "number_hidden_nodes = 27\n",
    "model.add(Dense(units=number_hidden_nodes,\n",
    "                activation='tanh', input_dim=number_inputs))"
   ]
  },
  {
   "cell_type": "markdown",
   "metadata": {},
   "source": [
    "## Defining the input of the model"
   ]
  },
  {
   "cell_type": "code",
   "execution_count": 16,
   "metadata": {},
   "outputs": [],
   "source": [
    "# Defining the output layer\n",
    "number_classes = 2 # Labels we are trying to predict (either 'Hit' or 'Miss')\n",
    "model.add(Dense(units=number_classes, activation='softmax'))"
   ]
  },
  {
   "cell_type": "markdown",
   "metadata": {},
   "source": [
    "## Summary of the model"
   ]
  },
  {
   "cell_type": "code",
   "execution_count": 17,
   "metadata": {},
   "outputs": [
    {
     "name": "stdout",
     "output_type": "stream",
     "text": [
      "Model: \"sequential\"\n",
      "_________________________________________________________________\n",
      "Layer (type)                 Output Shape              Param #   \n",
      "=================================================================\n",
      "dense (Dense)                (None, 27)                270       \n",
      "_________________________________________________________________\n",
      "dense_1 (Dense)              (None, 2)                 56        \n",
      "=================================================================\n",
      "Total params: 326\n",
      "Trainable params: 326\n",
      "Non-trainable params: 0\n",
      "_________________________________________________________________\n"
     ]
    }
   ],
   "source": [
    "model.summary()"
   ]
  },
  {
   "cell_type": "markdown",
   "metadata": {},
   "source": [
    "## Compile the model"
   ]
  },
  {
   "cell_type": "code",
   "execution_count": 18,
   "metadata": {},
   "outputs": [],
   "source": [
    "# Use categorical crossentropy for categorical data and mean squared error for regression\n",
    "model.compile(optimizer='adam',\n",
    "              loss='categorical_crossentropy',\n",
    "              metrics=['accuracy'])"
   ]
  },
  {
   "cell_type": "markdown",
   "metadata": {},
   "source": [
    "## Training the model"
   ]
  },
  {
   "cell_type": "code",
   "execution_count": 19,
   "metadata": {},
   "outputs": [
    {
     "name": "stdout",
     "output_type": "stream",
     "text": [
      "Epoch 1/100\n",
      "4/4 - 0s - loss: 0.7239 - accuracy: 0.6100\n",
      "Epoch 2/100\n",
      "4/4 - 0s - loss: 0.6912 - accuracy: 0.6200\n",
      "Epoch 3/100\n",
      "4/4 - 0s - loss: 0.6615 - accuracy: 0.6400\n",
      "Epoch 4/100\n",
      "4/4 - 0s - loss: 0.6345 - accuracy: 0.6600\n",
      "Epoch 5/100\n",
      "4/4 - 0s - loss: 0.6099 - accuracy: 0.6600\n",
      "Epoch 6/100\n",
      "4/4 - 0s - loss: 0.5883 - accuracy: 0.6700\n",
      "Epoch 7/100\n",
      "4/4 - 0s - loss: 0.5654 - accuracy: 0.6900\n",
      "Epoch 8/100\n",
      "4/4 - 0s - loss: 0.5471 - accuracy: 0.7100\n",
      "Epoch 9/100\n",
      "4/4 - 0s - loss: 0.5300 - accuracy: 0.7100\n",
      "Epoch 10/100\n",
      "4/4 - 0s - loss: 0.5126 - accuracy: 0.7600\n",
      "Epoch 11/100\n",
      "4/4 - 0s - loss: 0.4997 - accuracy: 0.7900\n",
      "Epoch 12/100\n",
      "4/4 - 0s - loss: 0.4847 - accuracy: 0.7900\n",
      "Epoch 13/100\n",
      "4/4 - 0s - loss: 0.4719 - accuracy: 0.7900\n",
      "Epoch 14/100\n",
      "4/4 - 0s - loss: 0.4610 - accuracy: 0.8000\n",
      "Epoch 15/100\n",
      "4/4 - 0s - loss: 0.4504 - accuracy: 0.8100\n",
      "Epoch 16/100\n",
      "4/4 - 0s - loss: 0.4404 - accuracy: 0.8100\n",
      "Epoch 17/100\n",
      "4/4 - 0s - loss: 0.4322 - accuracy: 0.8200\n",
      "Epoch 18/100\n",
      "4/4 - 0s - loss: 0.4244 - accuracy: 0.8300\n",
      "Epoch 19/100\n",
      "4/4 - 0s - loss: 0.4174 - accuracy: 0.8300\n",
      "Epoch 20/100\n",
      "4/4 - 0s - loss: 0.4113 - accuracy: 0.8300\n",
      "Epoch 21/100\n",
      "4/4 - 0s - loss: 0.4056 - accuracy: 0.8300\n",
      "Epoch 22/100\n",
      "4/4 - 0s - loss: 0.4003 - accuracy: 0.8200\n",
      "Epoch 23/100\n",
      "4/4 - 0s - loss: 0.3946 - accuracy: 0.8300\n",
      "Epoch 24/100\n",
      "4/4 - 0s - loss: 0.3890 - accuracy: 0.8400\n",
      "Epoch 25/100\n",
      "4/4 - 0s - loss: 0.3837 - accuracy: 0.8400\n",
      "Epoch 26/100\n",
      "4/4 - 0s - loss: 0.3789 - accuracy: 0.8400\n",
      "Epoch 27/100\n",
      "4/4 - 0s - loss: 0.3746 - accuracy: 0.8400\n",
      "Epoch 28/100\n",
      "4/4 - 0s - loss: 0.3705 - accuracy: 0.8400\n",
      "Epoch 29/100\n",
      "4/4 - 0s - loss: 0.3666 - accuracy: 0.8400\n",
      "Epoch 30/100\n",
      "4/4 - 0s - loss: 0.3624 - accuracy: 0.8400\n",
      "Epoch 31/100\n",
      "4/4 - 0s - loss: 0.3581 - accuracy: 0.8500\n",
      "Epoch 32/100\n",
      "4/4 - 0s - loss: 0.3544 - accuracy: 0.8500\n",
      "Epoch 33/100\n",
      "4/4 - 0s - loss: 0.3511 - accuracy: 0.8500\n",
      "Epoch 34/100\n",
      "4/4 - 0s - loss: 0.3470 - accuracy: 0.8600\n",
      "Epoch 35/100\n",
      "4/4 - 0s - loss: 0.3445 - accuracy: 0.8600\n",
      "Epoch 36/100\n",
      "4/4 - 0s - loss: 0.3415 - accuracy: 0.8600\n",
      "Epoch 37/100\n",
      "4/4 - 0s - loss: 0.3384 - accuracy: 0.8700\n",
      "Epoch 38/100\n",
      "4/4 - 0s - loss: 0.3358 - accuracy: 0.8700\n",
      "Epoch 39/100\n",
      "4/4 - 0s - loss: 0.3334 - accuracy: 0.8700\n",
      "Epoch 40/100\n",
      "4/4 - 0s - loss: 0.3309 - accuracy: 0.8700\n",
      "Epoch 41/100\n",
      "4/4 - 0s - loss: 0.3284 - accuracy: 0.8700\n",
      "Epoch 42/100\n",
      "4/4 - 0s - loss: 0.3261 - accuracy: 0.8700\n",
      "Epoch 43/100\n",
      "4/4 - 0s - loss: 0.3237 - accuracy: 0.8800\n",
      "Epoch 44/100\n",
      "4/4 - 0s - loss: 0.3213 - accuracy: 0.8800\n",
      "Epoch 45/100\n",
      "4/4 - 0s - loss: 0.3194 - accuracy: 0.8800\n",
      "Epoch 46/100\n",
      "4/4 - 0s - loss: 0.3170 - accuracy: 0.8800\n",
      "Epoch 47/100\n",
      "4/4 - 0s - loss: 0.3154 - accuracy: 0.8800\n",
      "Epoch 48/100\n",
      "4/4 - 0s - loss: 0.3134 - accuracy: 0.8800\n",
      "Epoch 49/100\n",
      "4/4 - 0s - loss: 0.3119 - accuracy: 0.8800\n",
      "Epoch 50/100\n",
      "4/4 - 0s - loss: 0.3100 - accuracy: 0.8800\n",
      "Epoch 51/100\n",
      "4/4 - 0s - loss: 0.3083 - accuracy: 0.8800\n",
      "Epoch 52/100\n",
      "4/4 - 0s - loss: 0.3069 - accuracy: 0.8800\n",
      "Epoch 53/100\n",
      "4/4 - 0s - loss: 0.3055 - accuracy: 0.8800\n",
      "Epoch 54/100\n",
      "4/4 - 0s - loss: 0.3042 - accuracy: 0.8800\n",
      "Epoch 55/100\n",
      "4/4 - 0s - loss: 0.3029 - accuracy: 0.8800\n",
      "Epoch 56/100\n",
      "4/4 - 0s - loss: 0.3015 - accuracy: 0.8800\n",
      "Epoch 57/100\n",
      "4/4 - 0s - loss: 0.3004 - accuracy: 0.8800\n",
      "Epoch 58/100\n",
      "4/4 - 0s - loss: 0.2997 - accuracy: 0.8800\n",
      "Epoch 59/100\n",
      "4/4 - 0s - loss: 0.2982 - accuracy: 0.8800\n",
      "Epoch 60/100\n",
      "4/4 - 0s - loss: 0.2979 - accuracy: 0.8800\n",
      "Epoch 61/100\n",
      "4/4 - 0s - loss: 0.2969 - accuracy: 0.8700\n",
      "Epoch 62/100\n",
      "4/4 - 0s - loss: 0.2962 - accuracy: 0.8700\n",
      "Epoch 63/100\n",
      "4/4 - 0s - loss: 0.2956 - accuracy: 0.8700\n",
      "Epoch 64/100\n",
      "4/4 - 0s - loss: 0.2950 - accuracy: 0.8700\n",
      "Epoch 65/100\n",
      "4/4 - 0s - loss: 0.2943 - accuracy: 0.8700\n",
      "Epoch 66/100\n",
      "4/4 - 0s - loss: 0.2929 - accuracy: 0.8700\n",
      "Epoch 67/100\n",
      "4/4 - 0s - loss: 0.2925 - accuracy: 0.8600\n",
      "Epoch 68/100\n",
      "4/4 - 0s - loss: 0.2916 - accuracy: 0.8600\n",
      "Epoch 69/100\n",
      "4/4 - 0s - loss: 0.2899 - accuracy: 0.8600\n",
      "Epoch 70/100\n",
      "4/4 - 0s - loss: 0.2892 - accuracy: 0.8600\n",
      "Epoch 71/100\n",
      "4/4 - 0s - loss: 0.2887 - accuracy: 0.8600\n",
      "Epoch 72/100\n",
      "4/4 - 0s - loss: 0.2882 - accuracy: 0.8600\n",
      "Epoch 73/100\n",
      "4/4 - 0s - loss: 0.2874 - accuracy: 0.8600\n",
      "Epoch 74/100\n",
      "4/4 - 0s - loss: 0.2868 - accuracy: 0.8600\n",
      "Epoch 75/100\n",
      "4/4 - 0s - loss: 0.2861 - accuracy: 0.8600\n",
      "Epoch 76/100\n",
      "4/4 - 0s - loss: 0.2854 - accuracy: 0.8600\n",
      "Epoch 77/100\n",
      "4/4 - 0s - loss: 0.2847 - accuracy: 0.8600\n",
      "Epoch 78/100\n",
      "4/4 - 0s - loss: 0.2842 - accuracy: 0.8600\n",
      "Epoch 79/100\n",
      "4/4 - 0s - loss: 0.2842 - accuracy: 0.8600\n",
      "Epoch 80/100\n",
      "4/4 - 0s - loss: 0.2837 - accuracy: 0.8600\n",
      "Epoch 81/100\n",
      "4/4 - 0s - loss: 0.2826 - accuracy: 0.8600\n",
      "Epoch 82/100\n",
      "4/4 - 0s - loss: 0.2825 - accuracy: 0.8600\n",
      "Epoch 83/100\n",
      "4/4 - 0s - loss: 0.2818 - accuracy: 0.8600\n",
      "Epoch 84/100\n",
      "4/4 - 0s - loss: 0.2810 - accuracy: 0.8600\n",
      "Epoch 85/100\n",
      "4/4 - 0s - loss: 0.2802 - accuracy: 0.8600\n",
      "Epoch 86/100\n",
      "4/4 - 0s - loss: 0.2799 - accuracy: 0.8700\n",
      "Epoch 87/100\n",
      "4/4 - 0s - loss: 0.2795 - accuracy: 0.8700\n",
      "Epoch 88/100\n",
      "4/4 - 0s - loss: 0.2794 - accuracy: 0.8700\n",
      "Epoch 89/100\n",
      "4/4 - 0s - loss: 0.2790 - accuracy: 0.8800\n",
      "Epoch 90/100\n",
      "4/4 - 0s - loss: 0.2787 - accuracy: 0.8800\n",
      "Epoch 91/100\n",
      "4/4 - 0s - loss: 0.2784 - accuracy: 0.8800\n",
      "Epoch 92/100\n",
      "4/4 - 0s - loss: 0.2776 - accuracy: 0.8800\n",
      "Epoch 93/100\n",
      "4/4 - 0s - loss: 0.2774 - accuracy: 0.8800\n",
      "Epoch 94/100\n",
      "4/4 - 0s - loss: 0.2765 - accuracy: 0.8800\n",
      "Epoch 95/100\n",
      "4/4 - 0s - loss: 0.2760 - accuracy: 0.8800\n",
      "Epoch 96/100\n",
      "4/4 - 0s - loss: 0.2754 - accuracy: 0.8800\n",
      "Epoch 97/100\n",
      "4/4 - 0s - loss: 0.2746 - accuracy: 0.8800\n",
      "Epoch 98/100\n",
      "4/4 - 0s - loss: 0.2742 - accuracy: 0.8800\n",
      "Epoch 99/100\n",
      "4/4 - 0s - loss: 0.2741 - accuracy: 0.8800\n",
      "Epoch 100/100\n",
      "4/4 - 0s - loss: 0.2734 - accuracy: 0.8800\n"
     ]
    },
    {
     "data": {
      "text/plain": [
       "<tensorflow.python.keras.callbacks.History at 0x7f37f1706a50>"
      ]
     },
     "execution_count": 19,
     "metadata": {},
     "output_type": "execute_result"
    }
   ],
   "source": [
    "# Fit (train) the model\n",
    "model.fit(\n",
    "    X_train_scaled,\n",
    "    y_train_categorical,\n",
    "    epochs=100, # Hundred iterations or loops\n",
    "    shuffle=True,\n",
    "    verbose=2\n",
    ")"
   ]
  },
  {
   "cell_type": "markdown",
   "metadata": {},
   "source": [
    "## Evaluating the model using the test data¶"
   ]
  },
  {
   "cell_type": "code",
   "execution_count": 20,
   "metadata": {},
   "outputs": [
    {
     "name": "stdout",
     "output_type": "stream",
     "text": [
      "1/1 - 0s - loss: 0.4052 - accuracy: 0.8400\n",
      "Deep Neural Network - Loss: 0.40516364574432373, Accuracy: 0.8399999737739563\n"
     ]
    }
   ],
   "source": [
    "# Evaluate the deep model using the testing data\n",
    "model_loss, model_accuracy = model.evaluate(\n",
    "    X_test_scaled, y_test_categorical, verbose=2)\n",
    "print(f\"Deep Neural Network - Loss: {model_loss}, Accuracy: {model_accuracy}\")"
   ]
  }
 ],
 "metadata": {
  "environment": {
   "name": "common-cpu.m56",
   "type": "gcloud",
   "uri": "gcr.io/deeplearning-platform-release/base-cpu:m56"
  },
  "kernelspec": {
   "display_name": "Python 3",
   "language": "python",
   "name": "python3"
  },
  "language_info": {
   "codemirror_mode": {
    "name": "ipython",
    "version": 3
   },
   "file_extension": ".py",
   "mimetype": "text/x-python",
   "name": "python",
   "nbconvert_exporter": "python",
   "pygments_lexer": "ipython3",
   "version": "3.7.8"
  }
 },
 "nbformat": 4,
 "nbformat_minor": 4
}
